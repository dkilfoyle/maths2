{
 "cells": [
  {
   "cell_type": "code",
   "execution_count": 7,
   "metadata": {
    "collapsed": false
   },
   "outputs": [],
   "source": [
    "# setup\n",
    "from sympy import *\n",
    "x,y,z,t=symbols('x y z t',real=True)\n",
    "init_printing()\n",
    "%matplotlib notebook"
   ]
  },
  {
   "cell_type": "markdown",
   "metadata": {
    "collapsed": true
   },
   "source": [
    "# Related rates\n",
    "\n",
    "## Example problem\n",
    "\n",
    "A 26m ladder is placed against a wall. If the bottom of the ladder is moving away from the wall at 3m/s at what rate is the top moving down when the ladder is 24m above the ground?"
   ]
  },
  {
   "cell_type": "code",
   "execution_count": 13,
   "metadata": {
    "collapsed": false
   },
   "outputs": [
    {
     "data": {
      "image/png": "[encoded data removed]",
      "text/latex": [
       "$$x^{2}{\\left (t \\right )} + y^{2}{\\left (t \\right )} - 676 = 0$$"
      ],
      "text/plain": [
       " 2       2             \n",
       "x (t) + y (t) - 676 = 0"
      ]
     },
     "execution_count": 13,
     "metadata": {},
     "output_type": "execute_result"
    }
   ],
   "source": [
    "eq1=x(t)**2+y(t)**2-26**2\n",
    "Eq(eq1,0)"
   ]
  },
  {
   "cell_type": "markdown",
   "metadata": {},
   "source": [
    "Differentiate with respect to t"
   ]
  },
  {
   "cell_type": "code",
   "execution_count": 16,
   "metadata": {
    "collapsed": false
   },
   "outputs": [
    {
     "data": {
      "image/png": "[encoded data removed]",
      "text/latex": [
       "$$2 x{\\left (t \\right )} \\frac{d}{d t} x{\\left (t \\right )} + 2 y{\\left (t \\right )} \\frac{d}{d t} y{\\left (t \\right )}$$"
      ],
      "text/plain": [
       "       d                 d       \n",
       "2⋅x(t)⋅──(x(t)) + 2⋅y(t)⋅──(y(t))\n",
       "       dt                dt      "
      ]
     },
     "execution_count": 16,
     "metadata": {},
     "output_type": "execute_result"
    }
   ],
   "source": [
    "eq2=diff(eq1,t)\n",
    "eq2"
   ]
  },
  {
   "cell_type": "code",
   "execution_count": 42,
   "metadata": {
    "collapsed": false
   },
   "outputs": [
    {
     "data": {
      "image/png": "[encoded data removed]",
      "text/latex": [
       "$$6 x{\\left (t \\right )} + 2 y{\\left (t \\right )} \\frac{d}{d t} y{\\left (t \\right )}$$"
      ],
      "text/plain": [
       "                d       \n",
       "6⋅x(t) + 2⋅y(t)⋅──(y(t))\n",
       "                dt      "
      ]
     },
     "execution_count": 42,
     "metadata": {},
     "output_type": "execute_result"
    }
   ],
   "source": [
    "eq3=eq2.subs(diff(x(t),t),3)\n",
    "eq3"
   ]
  },
  {
   "cell_type": "markdown",
   "metadata": {},
   "source": [
    "We need to express x(t) in terms of y(t)"
   ]
  },
  {
   "cell_type": "code",
   "execution_count": 47,
   "metadata": {
    "collapsed": false
   },
   "outputs": [
    {
     "data": {
      "image/png": "[encoded data removed]",
      "text/latex": [
       "$$x{\\left (t \\right )} = \\sqrt{- y^{2}{\\left (t \\right )} + 676}$$"
      ],
      "text/plain": [
       "          _______________\n",
       "         ╱    2          \n",
       "x(t) = ╲╱  - y (t) + 676 "
      ]
     },
     "execution_count": 47,
     "metadata": {},
     "output_type": "execute_result"
    }
   ],
   "source": [
    "eq4=solve(eq1, x(t))[1]\n",
    "Eq(x(t),eq4)"
   ]
  },
  {
   "cell_type": "code",
   "execution_count": 49,
   "metadata": {
    "collapsed": false
   },
   "outputs": [
    {
     "data": {
      "image/png": "[encoded data removed]",
      "text/latex": [
       "$$6 \\sqrt{- y^{2}{\\left (t \\right )} + 676} + 2 y{\\left (t \\right )} \\frac{d}{d t} y{\\left (t \\right )} = 0$$"
      ],
      "text/plain": [
       "     _______________                      \n",
       "    ╱    2                    d           \n",
       "6⋅╲╱  - y (t) + 676  + 2⋅y(t)⋅──(y(t)) = 0\n",
       "                              dt          "
      ]
     },
     "execution_count": 49,
     "metadata": {},
     "output_type": "execute_result"
    }
   ],
   "source": [
    "eq5=eq3.subs(x(t),eq4)\n",
    "Eq(eq5,0)"
   ]
  },
  {
   "cell_type": "code",
   "execution_count": 52,
   "metadata": {
    "collapsed": false
   },
   "outputs": [
    {
     "data": {
      "image/png": "[encoded data removed]",
      "text/latex": [
       "$$- \\frac{3 \\sqrt{- y^{2}{\\left (t \\right )} + 676}}{y{\\left (t \\right )}}$$"
      ],
      "text/plain": [
       "      _______________ \n",
       "     ╱    2           \n",
       "-3⋅╲╱  - y (t) + 676  \n",
       "──────────────────────\n",
       "         y(t)         "
      ]
     },
     "execution_count": 52,
     "metadata": {},
     "output_type": "execute_result"
    }
   ],
   "source": [
    "eq6=solve(eq5,diff(y(t),t))[0]\n",
    "eq6"
   ]
  },
  {
   "cell_type": "code",
   "execution_count": 56,
   "metadata": {
    "collapsed": false
   },
   "outputs": [
    {
     "data": {
      "image/png": "[encoded data removed]",
      "text/latex": [
       "$$-1.25$$"
      ],
      "text/plain": [
       "-1.25000000000000"
      ]
     },
     "execution_count": 56,
     "metadata": {},
     "output_type": "execute_result"
    }
   ],
   "source": [
    "eq6.subs(y(t),24).n()"
   ]
  },
  {
   "cell_type": "code",
   "execution_count": null,
   "metadata": {
    "collapsed": true
   },
   "outputs": [],
   "source": []
  }
 ],
 "metadata": {
  "anaconda-cloud": {},
  "kernelspec": {
   "display_name": "Python [Root]",
   "language": "python",
   "name": "Python [Root]"
  },
  "language_info": {
   "codemirror_mode": {
    "name": "ipython",
    "version": 3
   },
   "file_extension": ".py",
   "mimetype": "text/x-python",
   "name": "python",
   "nbconvert_exporter": "python",
   "pygments_lexer": "ipython3",
   "version": "3.5.2"
  }
 },
 "nbformat": 4,
 "nbformat_minor": 0
}
