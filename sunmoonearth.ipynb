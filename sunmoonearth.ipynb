{
 "cells": [
  {
   "cell_type": "code",
   "execution_count": 1,
   "metadata": {
    "collapsed": false
   },
   "outputs": [],
   "source": [
    "# setup\n",
    "from sympy import *\n",
    "x,y,z,p,t=symbols('x y z p t',real=True)\n",
    "init_printing()\n",
    "%matplotlib notebook\n",
    "%load_ext tikzmagic"
   ]
  },
  {
   "cell_type": "code",
   "execution_count": 260,
   "metadata": {
    "collapsed": false
   },
   "outputs": [],
   "source": [
    "d_m, D_m, d_e, D_e, d_s, D_s, d_o = symbols('d_m, D_m, d_e, D_e, d_s, D_s, d_o')"
   ]
  },
  {
   "cell_type": "markdown",
   "metadata": {},
   "source": [
    "Source: technical notes 11 and 12 from To Explain The World by Steven Weinberg"
   ]
  },
  {
   "cell_type": "markdown",
   "metadata": {},
   "source": [
    "# Aristarchus\n",
    "\n",
    "Made 4 basic naked eye astronomical observations about the sun and moon to calculate the *ratios* of the diameter and distance of the earth, moon and sun. The absolute values of these measurements required a single starting value - see Eratosthenes. "
   ]
  },
  {
   "cell_type": "code",
   "execution_count": 261,
   "metadata": {
    "collapsed": true
   },
   "outputs": [],
   "source": [
    "obs1angle = 89.853\n",
    "obs4angle = 0.5\n",
    "alexandriaangle = 7.2"
   ]
  },
  {
   "cell_type": "markdown",
   "metadata": {},
   "source": [
    "## Observation 1\n",
    "\n",
    "When the moon is half full the angle between the lines of sight from the earth to the moon and to the sun is 89.853 degrees.\n",
    "\n",
    "![Observation3](img/halfmoon.svg)"
   ]
  },
  {
   "cell_type": "code",
   "execution_count": 262,
   "metadata": {
    "collapsed": false
   },
   "outputs": [
    {
     "data": {
      "image/png": "[encoded data removed]",
      "text/latex": [
       "$$89.853$$"
      ],
      "text/plain": [
       "89.853"
      ]
     },
     "execution_count": 262,
     "metadata": {},
     "output_type": "execute_result"
    }
   ],
   "source": [
    "obs1angle"
   ]
  },
  {
   "cell_type": "code",
   "execution_count": 263,
   "metadata": {
    "collapsed": false
   },
   "outputs": [
    {
     "data": {
      "image/png": "[encoded data removed]",
      "text/latex": [
       "$$0.00256563118572784 = \\frac{d_{m}}{d_{s}}$$"
      ],
      "text/plain": [
       "                      dₘ\n",
       "0.00256563118572784 = ──\n",
       "                      dₛ"
      ]
     },
     "execution_count": 263,
     "metadata": {},
     "output_type": "execute_result"
    }
   ],
   "source": [
    "obs1eq1=Eq(cos(obs1angle*pi/180).evalf(),d_m/d_s);obs1eq1"
   ]
  },
  {
   "cell_type": "code",
   "execution_count": 264,
   "metadata": {
    "collapsed": false
   },
   "outputs": [
    {
     "data": {
      "image/png": "[encoded data removed]",
      "text/latex": [
       "$$389.767635177974$$"
      ],
      "text/plain": [
       "389.767635177974"
      ]
     },
     "execution_count": 264,
     "metadata": {},
     "output_type": "execute_result"
    }
   ],
   "source": [
    "1/obs1eq1.lhs"
   ]
  },
  {
   "cell_type": "markdown",
   "metadata": {},
   "source": [
    "## Observation 2\n",
    "\n",
    "The moon just covers the disc of the sun during a solar eclipse\n",
    "\n",
    "![Observation2](img/solareclipse.svg)"
   ]
  },
  {
   "cell_type": "markdown",
   "metadata": {},
   "source": [
    "From similar triangles"
   ]
  },
  {
   "cell_type": "code",
   "execution_count": 265,
   "metadata": {
    "collapsed": false
   },
   "outputs": [
    {
     "data": {
      "image/png": "[encoded data removed]",
      "text/latex": [
       "$$\\frac{D_{m}}{d_{m}} = \\frac{D_{s}}{d_{s}}$$"
      ],
      "text/plain": [
       "Dₘ   Dₛ\n",
       "── = ──\n",
       "dₘ   dₛ"
      ]
     },
     "execution_count": 265,
     "metadata": {},
     "output_type": "execute_result"
    }
   ],
   "source": [
    "obs2eq1 = Eq(D_m/d_m, D_s/d_s); obs2eq1"
   ]
  },
  {
   "cell_type": "code",
   "execution_count": 266,
   "metadata": {
    "collapsed": false
   },
   "outputs": [
    {
     "data": {
      "image/png": "[encoded data removed]",
      "text/latex": [
       "$$\\frac{d_{m}}{d_{s}} = \\frac{D_{m}}{D_{s}}$$"
      ],
      "text/plain": [
       "dₘ   Dₘ\n",
       "── = ──\n",
       "dₛ   Dₛ"
      ]
     },
     "execution_count": 266,
     "metadata": {},
     "output_type": "execute_result"
    }
   ],
   "source": [
    "obs2eq2 = Eq(d_m/d_s, solve(obs2eq1, d_m)[0]/d_s); obs2eq2"
   ]
  },
  {
   "cell_type": "markdown",
   "metadata": {},
   "source": [
    "And from observation 1"
   ]
  },
  {
   "cell_type": "code",
   "execution_count": 267,
   "metadata": {
    "collapsed": false
   },
   "outputs": [
    {
     "data": {
      "image/png": "[encoded data removed]",
      "text/latex": [
       "$$0.00256563118572784 = \\frac{d_{m}}{d_{s}}$$"
      ],
      "text/plain": [
       "                      dₘ\n",
       "0.00256563118572784 = ──\n",
       "                      dₛ"
      ]
     },
     "execution_count": 267,
     "metadata": {},
     "output_type": "execute_result"
    }
   ],
   "source": [
    "obs1eq1"
   ]
  },
  {
   "cell_type": "code",
   "execution_count": 268,
   "metadata": {
    "collapsed": false
   },
   "outputs": [
    {
     "data": {
      "image/png": "[encoded data removed]",
      "text/latex": [
       "$$\\frac{D_{m}}{D_{s}} = 0.00256563118572784$$"
      ],
      "text/plain": [
       "Dₘ                      \n",
       "── = 0.00256563118572784\n",
       "Dₛ                      "
      ]
     },
     "execution_count": 268,
     "metadata": {},
     "output_type": "execute_result"
    }
   ],
   "source": [
    "obs2eq3 = Eq(D_m/D_s, obs1eq1.lhs); obs2eq3"
   ]
  },
  {
   "cell_type": "markdown",
   "metadata": {},
   "source": [
    "## Observation 3\n",
    "\n",
    "The earth casts a shadow that is twice the diameter of the moon\n",
    "\n",
    "![Observation3](img/lunareclipse.svg)"
   ]
  },
  {
   "cell_type": "markdown",
   "metadata": {},
   "source": [
    "From similar trianges we have \n",
    "$$\\frac{d_s + d_m + d_o}{D_s} = \\frac{d_m+d_o}{D_e} = \\frac{d_o}{2D_m}$$"
   ]
  },
  {
   "cell_type": "code",
   "execution_count": 269,
   "metadata": {
    "collapsed": false
   },
   "outputs": [
    {
     "data": {
      "image/png": "[encoded data removed]",
      "text/latex": [
       "$$\\frac{1}{D_{s}} \\left(d_{m} + d_{o} + d_{s}\\right)$$"
      ],
      "text/plain": [
       "dₘ + dₒ + dₛ\n",
       "────────────\n",
       "     Dₛ     "
      ]
     },
     "execution_count": 269,
     "metadata": {},
     "output_type": "execute_result"
    }
   ],
   "source": [
    "obs3eq1 = (d_s+d_m+d_o)/D_s; obs3eq1"
   ]
  },
  {
   "cell_type": "code",
   "execution_count": 270,
   "metadata": {
    "collapsed": false
   },
   "outputs": [
    {
     "data": {
      "image/png": "[encoded data removed]",
      "text/latex": [
       "$$\\frac{1}{D_{e}} \\left(d_{m} + d_{o}\\right)$$"
      ],
      "text/plain": [
       "dₘ + dₒ\n",
       "───────\n",
       "   Dₑ  "
      ]
     },
     "execution_count": 270,
     "metadata": {},
     "output_type": "execute_result"
    }
   ],
   "source": [
    "obs3eq2 = (d_m + d_o)/D_e; obs3eq2"
   ]
  },
  {
   "cell_type": "code",
   "execution_count": 271,
   "metadata": {
    "collapsed": false
   },
   "outputs": [
    {
     "data": {
      "image/png": "[encoded data removed]",
      "text/latex": [
       "$$\\frac{d_{o}}{2 D_{m}}$$"
      ],
      "text/plain": [
       " dₒ \n",
       "────\n",
       "2⋅Dₘ"
      ]
     },
     "execution_count": 271,
     "metadata": {},
     "output_type": "execute_result"
    }
   ],
   "source": [
    "obs3eq3 = d_o / (2*D_m); obs3eq3"
   ]
  },
  {
   "cell_type": "markdown",
   "metadata": {},
   "source": [
    "Solve for $d_o$"
   ]
  },
  {
   "cell_type": "code",
   "execution_count": 272,
   "metadata": {
    "collapsed": false
   },
   "outputs": [
    {
     "data": {
      "image/png": "[encoded data removed]",
      "text/latex": [
       "$$\\frac{1}{D_{e}} \\left(d_{m} + d_{o}\\right) = \\frac{d_{o}}{2 D_{m}}$$"
      ],
      "text/plain": [
       "dₘ + dₒ    dₒ \n",
       "─────── = ────\n",
       "   Dₑ     2⋅Dₘ"
      ]
     },
     "execution_count": 272,
     "metadata": {},
     "output_type": "execute_result"
    }
   ],
   "source": [
    "obs3eq4 = Eq(obs3eq2,obs3eq3); obs3eq4"
   ]
  },
  {
   "cell_type": "code",
   "execution_count": 273,
   "metadata": {
    "collapsed": false
   },
   "outputs": [
    {
     "data": {
      "image/png": "[encoded data removed]",
      "text/latex": [
       "$$d_{o} = \\frac{2 D_{m} d_{m}}{D_{e} - 2 D_{m}}$$"
      ],
      "text/plain": [
       "      2⋅Dₘ⋅dₘ \n",
       "dₒ = ─────────\n",
       "     Dₑ - 2⋅Dₘ"
      ]
     },
     "execution_count": 273,
     "metadata": {},
     "output_type": "execute_result"
    }
   ],
   "source": [
    "obs3doeq = solve(obs3eq4, d_o)[0]; Eq(d_o,obs3doeq)"
   ]
  },
  {
   "cell_type": "markdown",
   "metadata": {},
   "source": [
    "subsitute $d_o$ into eq3"
   ]
  },
  {
   "cell_type": "code",
   "execution_count": 274,
   "metadata": {
    "collapsed": false
   },
   "outputs": [
    {
     "data": {
      "image/png": "[encoded data removed]",
      "text/latex": [
       "$$\\frac{d_{m}}{D_{e} - 2 D_{m}}$$"
      ],
      "text/plain": [
       "    dₘ   \n",
       "─────────\n",
       "Dₑ - 2⋅Dₘ"
      ]
     },
     "execution_count": 274,
     "metadata": {},
     "output_type": "execute_result"
    }
   ],
   "source": [
    "obs3eq3 = obs3eq3.subs({d_o:obs3doeq}); obs3eq3"
   ]
  },
  {
   "cell_type": "markdown",
   "metadata": {},
   "source": [
    "Multiply eq1--eq3 by the demoninators"
   ]
  },
  {
   "cell_type": "code",
   "execution_count": 275,
   "metadata": {
    "collapsed": false
   },
   "outputs": [
    {
     "data": {
      "image/png": "[encoded data removed]",
      "text/latex": [
       "$$D_{e} D_{s} \\left(D_{e} - 2 D_{m}\\right)$$"
      ],
      "text/plain": [
       "Dₑ⋅Dₛ⋅(Dₑ - 2⋅Dₘ)"
      ]
     },
     "execution_count": 275,
     "metadata": {},
     "output_type": "execute_result"
    }
   ],
   "source": [
    "denominators = D_s*D_e*(D_e-2*D_m); denominators"
   ]
  },
  {
   "cell_type": "code",
   "execution_count": 276,
   "metadata": {
    "collapsed": false
   },
   "outputs": [
    {
     "data": {
      "image/png": "[encoded data removed]",
      "text/latex": [
       "$$D_{e} \\left(D_{e} - 2 D_{m}\\right) \\left(\\frac{2 D_{m} d_{m}}{D_{e} - 2 D_{m}} + d_{m} + d_{s}\\right)$$"
      ],
      "text/plain": [
       "               ⎛ 2⋅Dₘ⋅dₘ           ⎞\n",
       "Dₑ⋅(Dₑ - 2⋅Dₘ)⋅⎜───────── + dₘ + dₛ⎟\n",
       "               ⎝Dₑ - 2⋅Dₘ          ⎠"
      ]
     },
     "execution_count": 276,
     "metadata": {},
     "output_type": "execute_result"
    }
   ],
   "source": [
    "obs3eq1b = obs3eq1.subs({d_o:obs3doeq}) * denominators; obs3eq1b"
   ]
  },
  {
   "cell_type": "code",
   "execution_count": 277,
   "metadata": {
    "collapsed": false
   },
   "outputs": [
    {
     "data": {
      "image/png": "[encoded data removed]",
      "text/latex": [
       "$$D_{s} \\left(D_{e} - 2 D_{m}\\right) \\left(\\frac{2 D_{m} d_{m}}{D_{e} - 2 D_{m}} + d_{m}\\right)$$"
      ],
      "text/plain": [
       "               ⎛ 2⋅Dₘ⋅dₘ      ⎞\n",
       "Dₛ⋅(Dₑ - 2⋅Dₘ)⋅⎜───────── + dₘ⎟\n",
       "               ⎝Dₑ - 2⋅Dₘ     ⎠"
      ]
     },
     "execution_count": 277,
     "metadata": {},
     "output_type": "execute_result"
    }
   ],
   "source": [
    "obs3eq2b = obs3eq2.subs({d_o:obs3doeq}) * denominators; obs3eq2b"
   ]
  },
  {
   "cell_type": "markdown",
   "metadata": {},
   "source": [
    "Solve for $D_e$"
   ]
  },
  {
   "cell_type": "code",
   "execution_count": 278,
   "metadata": {
    "collapsed": false
   },
   "outputs": [
    {
     "data": {
      "image/png": "[encoded data removed]",
      "text/latex": [
       "$$D_{e} = \\frac{2 D_{m} d_{s} + D_{s} d_{m}}{d_{m} + d_{s}}$$"
      ],
      "text/plain": [
       "     2⋅Dₘ⋅dₛ + Dₛ⋅dₘ\n",
       "Dₑ = ───────────────\n",
       "         dₘ + dₛ    "
      ]
     },
     "execution_count": 278,
     "metadata": {},
     "output_type": "execute_result"
    }
   ],
   "source": [
    "obs3Deeq = solve(Eq(obs3eq1b,obs3eq2b), D_e)[1]; Eq(D_e,obs3Deeq)"
   ]
  },
  {
   "cell_type": "markdown",
   "metadata": {},
   "source": [
    "From observation 2 we have $\\frac{d_s}{d_m} = \\frac{D_s}{D_m}$"
   ]
  },
  {
   "cell_type": "code",
   "execution_count": 279,
   "metadata": {
    "collapsed": false
   },
   "outputs": [
    {
     "data": {
      "image/png": "[encoded data removed]",
      "text/latex": [
       "$$d_{s} = \\frac{D_{s} d_{m}}{D_{m}}$$"
      ],
      "text/plain": [
       "     Dₛ⋅dₘ\n",
       "dₛ = ─────\n",
       "       Dₘ "
      ]
     },
     "execution_count": 279,
     "metadata": {},
     "output_type": "execute_result"
    }
   ],
   "source": [
    "obs3dseq = solve(Eq(d_s/d_m,D_s/D_m), d_s)[0]; Eq(d_s,obs3dseq)"
   ]
  },
  {
   "cell_type": "code",
   "execution_count": 280,
   "metadata": {
    "collapsed": false
   },
   "outputs": [
    {
     "data": {
      "image/png": "[encoded data removed]",
      "text/latex": [
       "$$d_{m} = \\frac{D_{m} d_{s}}{D_{s}}$$"
      ],
      "text/plain": [
       "     Dₘ⋅dₛ\n",
       "dₘ = ─────\n",
       "       Dₛ "
      ]
     },
     "execution_count": 280,
     "metadata": {},
     "output_type": "execute_result"
    }
   ],
   "source": [
    "obs3dmeq = solve(Eq(d_s/d_m,D_s/D_m), d_m)[0]; Eq(d_m,obs3dmeq)"
   ]
  },
  {
   "cell_type": "code",
   "execution_count": 281,
   "metadata": {
    "collapsed": false
   },
   "outputs": [
    {
     "data": {
      "image/png": "[encoded data removed]",
      "text/latex": [
       "$$D_{e} = \\frac{3 D_{m} D_{s}}{D_{m} + D_{s}}$$"
      ],
      "text/plain": [
       "     3⋅Dₘ⋅Dₛ\n",
       "Dₑ = ───────\n",
       "     Dₘ + Dₛ"
      ]
     },
     "execution_count": 281,
     "metadata": {},
     "output_type": "execute_result"
    }
   ],
   "source": [
    "obs3Deeq2 = obs3Deeq.subs({d_s:obs3dseq}).simplify(); Eq(D_e, obs3Deeq2)"
   ]
  },
  {
   "cell_type": "markdown",
   "metadata": {},
   "source": [
    "From observation 2"
   ]
  },
  {
   "cell_type": "code",
   "execution_count": 282,
   "metadata": {
    "collapsed": false
   },
   "outputs": [
    {
     "data": {
      "image/png": "[encoded data removed]",
      "text/latex": [
       "$$\\frac{D_{m}}{D_{s}} = 0.00256563118572784$$"
      ],
      "text/plain": [
       "Dₘ                      \n",
       "── = 0.00256563118572784\n",
       "Dₛ                      "
      ]
     },
     "execution_count": 282,
     "metadata": {},
     "output_type": "execute_result"
    }
   ],
   "source": [
    "obs2eq3"
   ]
  },
  {
   "cell_type": "code",
   "execution_count": 283,
   "metadata": {
    "collapsed": false
   },
   "outputs": [
    {
     "data": {
      "image/png": "[encoded data removed]",
      "text/latex": [
       "$$D_{e} = 0.00767719670190614 D_{s}$$"
      ],
      "text/plain": [
       "Dₑ = 0.00767719670190614⋅Dₛ"
      ]
     },
     "execution_count": 283,
     "metadata": {},
     "output_type": "execute_result"
    }
   ],
   "source": [
    "obs3DeDs = Eq(D_e, obs3Deeq2.subs({D_m: solve(obs2eq3, D_m)[0]})); obs3DeDs"
   ]
  },
  {
   "cell_type": "code",
   "execution_count": 284,
   "metadata": {
    "collapsed": false
   },
   "outputs": [
    {
     "data": {
      "image/png": "[encoded data removed]",
      "text/latex": [
       "$$D_{s} = 130.255878392658 D_{e}$$"
      ],
      "text/plain": [
       "Dₛ = 130.255878392658⋅Dₑ"
      ]
     },
     "execution_count": 284,
     "metadata": {},
     "output_type": "execute_result"
    }
   ],
   "source": [
    "obs3DsDe = Eq(D_s,solve(obs3DeDs,D_s)[0]); obs3DsDe"
   ]
  },
  {
   "cell_type": "code",
   "execution_count": 285,
   "metadata": {
    "collapsed": false
   },
   "outputs": [
    {
     "data": {
      "image/png": "[encoded data removed]",
      "text/latex": [
       "$$D_{e} = 2.99232280329809 D_{m}$$"
      ],
      "text/plain": [
       "Dₑ = 2.99232280329809⋅Dₘ"
      ]
     },
     "execution_count": 285,
     "metadata": {},
     "output_type": "execute_result"
    }
   ],
   "source": [
    "obs3DeDm = Eq(D_e, obs3Deeq2.subs({D_s:solve(obs2eq3, D_s)[0]})); obs3DeDm"
   ]
  },
  {
   "cell_type": "markdown",
   "metadata": {
    "collapsed": true
   },
   "source": [
    "## Observation 4\n",
    "\n",
    "The moon subtends an angle of 0.5 degrees in the sky\n",
    "\n",
    "![observatino4](img/moonangle.svg)"
   ]
  },
  {
   "cell_type": "code",
   "execution_count": 286,
   "metadata": {
    "collapsed": false
   },
   "outputs": [
    {
     "data": {
      "image/png": "[encoded data removed]",
      "text/latex": [
       "$$0.5$$"
      ],
      "text/plain": [
       "0.5"
      ]
     },
     "execution_count": 286,
     "metadata": {},
     "output_type": "execute_result"
    }
   ],
   "source": [
    "obs4angle"
   ]
  },
  {
   "cell_type": "code",
   "execution_count": 287,
   "metadata": {
    "collapsed": false
   },
   "outputs": [
    {
     "data": {
      "image/png": "[encoded data removed]",
      "text/latex": [
       "$$D_{m} = 0.0087266 d_{m}$$"
      ],
      "text/plain": [
       "Dₘ = 0.0087266⋅dₘ"
      ]
     },
     "execution_count": 287,
     "metadata": {},
     "output_type": "execute_result"
    }
   ],
   "source": [
    "obs4eq1 = Eq(D_m, ((obs4angle/360)*2*pi).evalf(5)*d_m); obs4eq1"
   ]
  },
  {
   "cell_type": "markdown",
   "metadata": {},
   "source": [
    "## Eratosthenes size of the earth\n",
    "\n",
    "Eratosthenese observed in Syene that at midday on the summer solstice the sun reached the bottom of a vertical well - indicating that the sun was directly overhead. At the same time 800km to the north in Alexandria the sun cast a 7.2 degree shadow. \n",
    "\n",
    "![eratosthenes](img/eratosthenes.svg)"
   ]
  },
  {
   "cell_type": "code",
   "execution_count": 288,
   "metadata": {
    "collapsed": false
   },
   "outputs": [
    {
     "data": {
      "image/png": "[encoded data removed]",
      "text/latex": [
       "$$7.2$$"
      ],
      "text/plain": [
       "7.2"
      ]
     },
     "execution_count": 288,
     "metadata": {},
     "output_type": "execute_result"
    }
   ],
   "source": [
    "alexandriaangle"
   ]
  },
  {
   "cell_type": "code",
   "execution_count": 289,
   "metadata": {
    "collapsed": false
   },
   "outputs": [
    {
     "data": {
      "image/png": "[encoded data removed]",
      "text/latex": [
       "$$40000.0$$"
      ],
      "text/plain": [
       "40000.0"
      ]
     },
     "execution_count": 289,
     "metadata": {},
     "output_type": "execute_result"
    }
   ],
   "source": [
    "c_e = 360/alexandriaangle*800; c_e"
   ]
  },
  {
   "cell_type": "code",
   "execution_count": 290,
   "metadata": {
    "collapsed": false
   },
   "outputs": [
    {
     "data": {
      "image/png": "[encoded data removed]",
      "text/latex": [
       "$$D_{e} = 12732.3954473516$$"
      ],
      "text/plain": [
       "Dₑ = 12732.3954473516"
      ]
     },
     "execution_count": 290,
     "metadata": {},
     "output_type": "execute_result"
    }
   ],
   "source": [
    "Deabs = c_e/pi\n",
    "Eq(D_e, Deabs.evalf())"
   ]
  },
  {
   "cell_type": "markdown",
   "metadata": {},
   "source": [
    "## Absolute values\n",
    "\n",
    "Now feed Eratosthenes value of $D_e$ into Aristarchus's ratios to calculate $d_m$ and $d_s$ and $D_m$ and $D_s$"
   ]
  },
  {
   "cell_type": "markdown",
   "metadata": {},
   "source": [
    "From observation 3 (which is dependent on observation 2 which is dependent on observation 1)"
   ]
  },
  {
   "cell_type": "code",
   "execution_count": 291,
   "metadata": {
    "collapsed": false
   },
   "outputs": [
    {
     "data": {
      "image/png": "[encoded data removed]",
      "text/latex": [
       "$$\\left [ D_{e} = 0.00767719670190614 D_{s}, \\quad D_{e} = 2.99232280329809 D_{m}\\right ]$$"
      ],
      "text/plain": [
       "[Dₑ = 0.00767719670190614⋅Dₛ, Dₑ = 2.99232280329809⋅Dₘ]"
      ]
     },
     "execution_count": 291,
     "metadata": {},
     "output_type": "execute_result"
    }
   ],
   "source": [
    "[obs3DeDs, obs3DeDm]"
   ]
  },
  {
   "cell_type": "code",
   "execution_count": 292,
   "metadata": {
    "collapsed": false
   },
   "outputs": [
    {
     "data": {
      "image/png": "[encoded data removed]",
      "text/latex": [
       "$$D_{s} = 1658469.35303746$$"
      ],
      "text/plain": [
       "Dₛ = 1658469.35303746"
      ]
     },
     "execution_count": 292,
     "metadata": {},
     "output_type": "execute_result"
    }
   ],
   "source": [
    "Dsabs = solve(obs3DeDs.subs({D_e:Deabs}), D_s)[0]\n",
    "Eq(D_s ,Dsabs)"
   ]
  },
  {
   "cell_type": "code",
   "execution_count": 293,
   "metadata": {
    "collapsed": false
   },
   "outputs": [
    {
     "data": {
      "image/png": "[encoded data removed]",
      "text/latex": [
       "$$D_{m} = 4255.0206927268$$"
      ],
      "text/plain": [
       "Dₘ = 4255.0206927268"
      ]
     },
     "execution_count": 293,
     "metadata": {},
     "output_type": "execute_result"
    }
   ],
   "source": [
    "Dmabs = solve(obs3DeDm.subs({D_e:Deabs}), D_m)[0]\n",
    "Eq(D_m ,Dmabs)"
   ]
  },
  {
   "cell_type": "markdown",
   "metadata": {},
   "source": [
    "From observation 4"
   ]
  },
  {
   "cell_type": "code",
   "execution_count": 294,
   "metadata": {
    "collapsed": false
   },
   "outputs": [
    {
     "data": {
      "image/png": "[encoded data removed]",
      "text/latex": [
       "$$D_{m} = 0.0087266 d_{m}$$"
      ],
      "text/plain": [
       "Dₘ = 0.0087266⋅dₘ"
      ]
     },
     "execution_count": 294,
     "metadata": {},
     "output_type": "execute_result"
    }
   ],
   "source": [
    "obs4eq1"
   ]
  },
  {
   "cell_type": "code",
   "execution_count": 295,
   "metadata": {
    "collapsed": false
   },
   "outputs": [
    {
     "data": {
      "image/png": "[encoded data removed]",
      "text/latex": [
       "$$d_{m} = 487592.039594665$$"
      ],
      "text/plain": [
       "dₘ = 487592.039594665"
      ]
     },
     "execution_count": 295,
     "metadata": {},
     "output_type": "execute_result"
    }
   ],
   "source": [
    "dmabs = solve(obs4eq1.subs({D_m: Dmabs}), d_m)[0]\n",
    "Eq(d_m, dmabs)"
   ]
  },
  {
   "cell_type": "markdown",
   "metadata": {},
   "source": [
    "From observation 1"
   ]
  },
  {
   "cell_type": "code",
   "execution_count": 296,
   "metadata": {
    "collapsed": false
   },
   "outputs": [
    {
     "data": {
      "image/png": "[encoded data removed]",
      "text/latex": [
       "$$0.00256563118572784 = \\frac{d_{m}}{d_{s}}$$"
      ],
      "text/plain": [
       "                      dₘ\n",
       "0.00256563118572784 = ──\n",
       "                      dₛ"
      ]
     },
     "execution_count": 296,
     "metadata": {},
     "output_type": "execute_result"
    }
   ],
   "source": [
    "obs1eq1"
   ]
  },
  {
   "cell_type": "code",
   "execution_count": 297,
   "metadata": {
    "collapsed": false
   },
   "outputs": [
    {
     "data": {
      "image/png": "[encoded data removed]",
      "text/latex": [
       "$$d_{s} = 190047596.204417$$"
      ],
      "text/plain": [
       "dₛ = 190047596.204417"
      ]
     },
     "execution_count": 297,
     "metadata": {},
     "output_type": "execute_result"
    }
   ],
   "source": [
    "dsabs = solve(obs1eq1.subs({d_m:dmabs}), d_s)[0]\n",
    "Eq(d_s, dsabs)"
   ]
  }
 ],
 "metadata": {
  "anaconda-cloud": {},
  "kernelspec": {
   "display_name": "Python [Root]",
   "language": "python",
   "name": "Python [Root]"
  },
  "language_info": {
   "codemirror_mode": {
    "name": "ipython",
    "version": 3
   },
   "file_extension": ".py",
   "mimetype": "text/x-python",
   "name": "python",
   "nbconvert_exporter": "python",
   "pygments_lexer": "ipython3",
   "version": "3.5.2"
  }
 },
 "nbformat": 4,
 "nbformat_minor": 0
}
